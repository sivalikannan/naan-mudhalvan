{
 "cells": [
  {
   "cell_type": "markdown",
   "id": "1371e283",
   "metadata": {
    "papermill": {
     "duration": 0.025005,
     "end_time": "2021-08-28T02:14:55.198744",
     "exception": false,
     "start_time": "2021-08-28T02:14:55.173739",
     "status": "completed"
    },
    "tags": []
   },
   "source": [
    "# Fake News Detection using NLP"
   ]
  },
  {
   "cell_type": "code",
   "execution_count": 1,
   "id": "48c7290f",
   "metadata": {
    "execution": {
     "iopub.execute_input": "2021-08-28T02:14:55.267389Z",
     "iopub.status.busy": "2021-08-28T02:14:55.265726Z",
     "iopub.status.idle": "2021-08-28T02:14:56.951951Z",
     "shell.execute_reply": "2021-08-28T02:14:56.952685Z",
     "shell.execute_reply.started": "2021-08-23T11:47:58.095926Z"
    },
    "papermill": {
     "duration": 1.725747,
     "end_time": "2021-08-28T02:14:56.953089",
     "exception": false,
     "start_time": "2021-08-28T02:14:55.227342",
     "status": "completed"
    },
    "tags": []
   },
   "outputs": [
    {
     "name": "stdout",
     "output_type": "stream",
     "text": [
      "[nltk_data] Downloading package stopwords to /usr/share/nltk_data...\n",
      "[nltk_data]   Package stopwords is already up-to-date!\n"
     ]
    }
   ],
   "source": [
    "# necessary imports \n",
    "\n",
    "import pandas as pd\n",
    "import numpy as np\n",
    "import matplotlib.pyplot as plt\n",
    "import seaborn as sns\n",
    "\n",
    "import warnings\n",
    "warnings.filterwarnings('ignore')\n",
    "\n",
    "import re\n",
    "\n",
    "import nltk\n",
    "nltk.download('stopwords')\n",
    "from nltk.stem.porter import PorterStemmer\n",
    "from nltk.corpus import stopwords\n",
    "\n",
    "plt.style.use('Solarize_Light2')\n",
    "%matplotlib inline"
   ]
  },
  {
   "cell_type": "code",
   "execution_count": 2,
   "id": "2b80468b",
   "metadata": {
    "execution": {
     "iopub.execute_input": "2021-08-28T02:14:57.003772Z",
     "iopub.status.busy": "2021-08-28T02:14:57.003243Z",
     "iopub.status.idle": "2021-08-28T02:14:59.651595Z",
     "shell.execute_reply": "2021-08-28T02:14:59.650831Z",
     "shell.execute_reply.started": "2021-08-23T11:47:58.110683Z"
    },
    "papermill": {
     "duration": 2.673835,
     "end_time": "2021-08-28T02:14:59.651734",
     "exception": false,
     "start_time": "2021-08-28T02:14:56.977899",
     "status": "completed"
    },
    "tags": []
   },
   "outputs": [],
   "source": [
    "df = pd.read_csv('../input/traindata/train.csv') # loading data"
   ]
  },
  {
   "cell_type": "code",
   "execution_count": 3,
   "id": "05a054e5",
   "metadata": {
    "execution": {
     "iopub.execute_input": "2021-08-28T02:14:59.709014Z",
     "iopub.status.busy": "2021-08-28T02:14:59.708419Z",
     "iopub.status.idle": "2021-08-28T02:14:59.727816Z",
     "shell.execute_reply": "2021-08-28T02:14:59.728228Z",
     "shell.execute_reply.started": "2021-08-23T11:47:59.396592Z"
    },
    "papermill": {
     "duration": 0.052637,
     "end_time": "2021-08-28T02:14:59.728391",
     "exception": false,
     "start_time": "2021-08-28T02:14:59.675754",
     "status": "completed"
    },
    "tags": []
   },
   "outputs": [
    {
     "data": {
      "text/html": [
       "<div>\n",
       "<style scoped>\n",
       "    .dataframe tbody tr th:only-of-type {\n",
       "        vertical-align: middle;\n",
       "    }\n",
       "\n",
       "    .dataframe tbody tr th {\n",
       "        vertical-align: top;\n",
       "    }\n",
       "\n",
       "    .dataframe thead th {\n",
       "        text-align: right;\n",
       "    }\n",
       "</style>\n",
       "<table border=\"1\" class=\"dataframe\">\n",
       "  <thead>\n",
       "    <tr style=\"text-align: right;\">\n",
       "      <th></th>\n",
       "      <th>id</th>\n",
       "      <th>title</th>\n",
       "      <th>author</th>\n",
       "      <th>text</th>\n",
       "      <th>label</th>\n",
       "    </tr>\n",
       "  </thead>\n",
       "  <tbody>\n",
       "    <tr>\n",
       "      <th>0</th>\n",
       "      <td>0</td>\n",
       "      <td>House Dem Aide: We Didn’t Even See Comey’s Let...</td>\n",
       "      <td>Darrell Lucus</td>\n",
       "      <td>House Dem Aide: We Didn’t Even See Comey’s Let...</td>\n",
       "      <td>1</td>\n",
       "    </tr>\n",
       "    <tr>\n",
       "      <th>1</th>\n",
       "      <td>1</td>\n",
       "      <td>FLYNN: Hillary Clinton, Big Woman on Campus - ...</td>\n",
       "      <td>Daniel J. Flynn</td>\n",
       "      <td>Ever get the feeling your life circles the rou...</td>\n",
       "      <td>0</td>\n",
       "    </tr>\n",
       "    <tr>\n",
       "      <th>2</th>\n",
       "      <td>2</td>\n",
       "      <td>Why the Truth Might Get You Fired</td>\n",
       "      <td>Consortiumnews.com</td>\n",
       "      <td>Why the Truth Might Get You Fired October 29, ...</td>\n",
       "      <td>1</td>\n",
       "    </tr>\n",
       "    <tr>\n",
       "      <th>3</th>\n",
       "      <td>3</td>\n",
       "      <td>15 Civilians Killed In Single US Airstrike Hav...</td>\n",
       "      <td>Jessica Purkiss</td>\n",
       "      <td>Videos 15 Civilians Killed In Single US Airstr...</td>\n",
       "      <td>1</td>\n",
       "    </tr>\n",
       "    <tr>\n",
       "      <th>4</th>\n",
       "      <td>4</td>\n",
       "      <td>Iranian woman jailed for fictional unpublished...</td>\n",
       "      <td>Howard Portnoy</td>\n",
       "      <td>Print \\nAn Iranian woman has been sentenced to...</td>\n",
       "      <td>1</td>\n",
       "    </tr>\n",
       "  </tbody>\n",
       "</table>\n",
       "</div>"
      ],
      "text/plain": [
       "   id                                              title              author  \\\n",
       "0   0  House Dem Aide: We Didn’t Even See Comey’s Let...       Darrell Lucus   \n",
       "1   1  FLYNN: Hillary Clinton, Big Woman on Campus - ...     Daniel J. Flynn   \n",
       "2   2                  Why the Truth Might Get You Fired  Consortiumnews.com   \n",
       "3   3  15 Civilians Killed In Single US Airstrike Hav...     Jessica Purkiss   \n",
       "4   4  Iranian woman jailed for fictional unpublished...      Howard Portnoy   \n",
       "\n",
       "                                                text  label  \n",
       "0  House Dem Aide: We Didn’t Even See Comey’s Let...      1  \n",
       "1  Ever get the feeling your life circles the rou...      0  \n",
       "2  Why the Truth Might Get You Fired October 29, ...      1  \n",
       "3  Videos 15 Civilians Killed In Single US Airstr...      1  \n",
       "4  Print \\nAn Iranian woman has been sentenced to...      1  "
      ]
     },
     "execution_count": 3,
     "metadata": {},
     "output_type": "execute_result"
    }
   ],
   "source": [
    "df.head() # looking at first five rows of the data"
   ]
  },
  {
   "cell_type": "code",
   "execution_count": 4,
   "id": "0619e261",
   "metadata": {
    "execution": {
     "iopub.execute_input": "2021-08-28T02:14:59.780553Z",
     "iopub.status.busy": "2021-08-28T02:14:59.780023Z",
     "iopub.status.idle": "2021-08-28T02:14:59.784603Z",
     "shell.execute_reply": "2021-08-28T02:14:59.784150Z",
     "shell.execute_reply.started": "2021-08-23T11:47:59.411685Z"
    },
    "papermill": {
     "duration": 0.032349,
     "end_time": "2021-08-28T02:14:59.784719",
     "exception": false,
     "start_time": "2021-08-28T02:14:59.752370",
     "status": "completed"
    },
    "tags": []
   },
   "outputs": [
    {
     "data": {
      "text/plain": [
       "(20800, 5)"
      ]
     },
     "execution_count": 4,
     "metadata": {},
     "output_type": "execute_result"
    }
   ],
   "source": [
    "df.shape # shape of data"
   ]
  },
  {
   "cell_type": "code",
   "execution_count": 5,
   "id": "2ae35ceb",
   "metadata": {
    "execution": {
     "iopub.execute_input": "2021-08-28T02:14:59.842562Z",
     "iopub.status.busy": "2021-08-28T02:14:59.842003Z",
     "iopub.status.idle": "2021-08-28T02:14:59.847795Z",
     "shell.execute_reply": "2021-08-28T02:14:59.848259Z",
     "shell.execute_reply.started": "2021-08-23T11:47:59.424664Z"
    },
    "papermill": {
     "duration": 0.03879,
     "end_time": "2021-08-28T02:14:59.848394",
     "exception": false,
     "start_time": "2021-08-28T02:14:59.809604",
     "status": "completed"
    },
    "tags": []
   },
   "outputs": [
    {
     "data": {
      "text/plain": [
       "id           0\n",
       "title      558\n",
       "author    1957\n",
       "text        39\n",
       "label        0\n",
       "dtype: int64"
      ]
     },
     "execution_count": 5,
     "metadata": {},
     "output_type": "execute_result"
    }
   ],
   "source": [
    "df.isnull().sum() # checking for null values in data"
   ]
  },
  {
   "cell_type": "code",
   "execution_count": 6,
   "id": "8b37eb47",
   "metadata": {
    "execution": {
     "iopub.execute_input": "2021-08-28T02:14:59.906805Z",
     "iopub.status.busy": "2021-08-28T02:14:59.906270Z",
     "iopub.status.idle": "2021-08-28T02:14:59.928162Z",
     "shell.execute_reply": "2021-08-28T02:14:59.928633Z",
     "shell.execute_reply.started": "2021-08-23T11:47:59.447473Z"
    },
    "papermill": {
     "duration": 0.055795,
     "end_time": "2021-08-28T02:14:59.928782",
     "exception": false,
     "start_time": "2021-08-28T02:14:59.872987",
     "status": "completed"
    },
    "tags": []
   },
   "outputs": [],
   "source": [
    "# dropping missing values\n",
    "\n",
    "df.dropna(inplace = True)"
   ]
  },
  {
   "cell_type": "code",
   "execution_count": 7,
   "id": "cf0c5344",
   "metadata": {
    "execution": {
     "iopub.execute_input": "2021-08-28T02:14:59.980500Z",
     "iopub.status.busy": "2021-08-28T02:14:59.979954Z",
     "iopub.status.idle": "2021-08-28T02:14:59.991404Z",
     "shell.execute_reply": "2021-08-28T02:14:59.991908Z",
     "shell.execute_reply.started": "2021-08-23T11:47:59.474265Z"
    },
    "papermill": {
     "duration": 0.038619,
     "end_time": "2021-08-28T02:14:59.992070",
     "exception": false,
     "start_time": "2021-08-28T02:14:59.953451",
     "status": "completed"
    },
    "tags": []
   },
   "outputs": [
    {
     "data": {
      "text/plain": [
       "id        0\n",
       "title     0\n",
       "author    0\n",
       "text      0\n",
       "label     0\n",
       "dtype: int64"
      ]
     },
     "execution_count": 7,
     "metadata": {},
     "output_type": "execute_result"
    }
   ],
   "source": [
    "df.isna().sum()"
   ]
  },
  {
   "cell_type": "code",
   "execution_count": 8,
   "id": "59492a85",
   "metadata": {
    "execution": {
     "iopub.execute_input": "2021-08-28T02:15:00.045282Z",
     "iopub.status.busy": "2021-08-28T02:15:00.044756Z",
     "iopub.status.idle": "2021-08-28T02:15:00.048899Z",
     "shell.execute_reply": "2021-08-28T02:15:00.049386Z",
     "shell.execute_reply.started": "2021-08-23T11:47:59.492325Z"
    },
    "papermill": {
     "duration": 0.032192,
     "end_time": "2021-08-28T02:15:00.049530",
     "exception": false,
     "start_time": "2021-08-28T02:15:00.017338",
     "status": "completed"
    },
    "tags": []
   },
   "outputs": [
    {
     "data": {
      "text/plain": [
       "(18285, 5)"
      ]
     },
     "execution_count": 8,
     "metadata": {},
     "output_type": "execute_result"
    }
   ],
   "source": [
    "df.shape"
   ]
  },
  {
   "cell_type": "code",
   "execution_count": 9,
   "id": "96c7d2ca",
   "metadata": {
    "execution": {
     "iopub.execute_input": "2021-08-28T02:15:00.101680Z",
     "iopub.status.busy": "2021-08-28T02:15:00.101163Z",
     "iopub.status.idle": "2021-08-28T02:15:00.230004Z",
     "shell.execute_reply": "2021-08-28T02:15:00.229468Z",
     "shell.execute_reply.started": "2021-08-23T11:47:59.50499Z"
    },
    "papermill": {
     "duration": 0.156041,
     "end_time": "2021-08-28T02:15:00.230148",
     "exception": false,
     "start_time": "2021-08-28T02:15:00.074107",
     "status": "completed"
    },
    "tags": []
   },
   "outputs": [
    {
     "data": {
      "image/png": "[encoded data removed]",
      "text/plain": [
       "<Figure size 648x360 with 1 Axes>"
      ]
     },
     "metadata": {
      "needs_background": "light"
     },
     "output_type": "display_data"
    }
   ],
   "source": [
    "# checking distribution of data to see if there is any imbalancing present in the data.\n",
    "\n",
    "plt.figure(figsize = (9, 5))\n",
    "sns.countplot(df['label'])\n",
    "\n",
    "plt.show()"
   ]
  },
  {
   "cell_type": "code",
   "execution_count": 10,
   "id": "1884e2ac",
   "metadata": {
    "execution": {
     "iopub.execute_input": "2021-08-28T02:15:00.287926Z",
     "iopub.status.busy": "2021-08-28T02:15:00.287351Z",
     "iopub.status.idle": "2021-08-28T02:15:00.290814Z",
     "shell.execute_reply": "2021-08-28T02:15:00.291276Z",
     "shell.execute_reply.started": "2021-08-23T11:47:59.624607Z"
    },
    "papermill": {
     "duration": 0.035248,
     "end_time": "2021-08-28T02:15:00.291434",
     "exception": false,
     "start_time": "2021-08-28T02:15:00.256186",
     "status": "completed"
    },
    "tags": []
   },
   "outputs": [
    {
     "data": {
      "text/plain": [
       "id         int64\n",
       "title     object\n",
       "author    object\n",
       "text      object\n",
       "label      int64\n",
       "dtype: object"
      ]
     },
     "execution_count": 10,
     "metadata": {},
     "output_type": "execute_result"
    }
   ],
   "source": [
    "df.dtypes # looking at data types of data"
   ]
  },
  {
   "cell_type": "code",
   "execution_count": 11,
   "id": "02d22b59",
   "metadata": {
    "execution": {
     "iopub.execute_input": "2021-08-28T02:15:00.360951Z",
     "iopub.status.busy": "2021-08-28T02:15:00.360300Z",
     "iopub.status.idle": "2021-08-28T02:15:00.362902Z",
     "shell.execute_reply": "2021-08-28T02:15:00.363351Z",
     "shell.execute_reply.started": "2021-08-23T11:47:59.632708Z"
    },
    "papermill": {
     "duration": 0.045603,
     "end_time": "2021-08-28T02:15:00.363500",
     "exception": false,
     "start_time": "2021-08-28T02:15:00.317897",
     "status": "completed"
    },
    "tags": []
   },
   "outputs": [],
   "source": [
    "df['label'] = df['label'].astype(str)"
   ]
  },
  {
   "cell_type": "code",
   "execution_count": 12,
   "id": "8a049130",
   "metadata": {
    "execution": {
     "iopub.execute_input": "2021-08-28T02:15:00.419489Z",
     "iopub.status.busy": "2021-08-28T02:15:00.418611Z",
     "iopub.status.idle": "2021-08-28T02:15:00.424709Z",
     "shell.execute_reply": "2021-08-28T02:15:00.425166Z",
     "shell.execute_reply.started": "2021-08-23T11:47:59.669069Z"
    },
    "papermill": {
     "duration": 0.035518,
     "end_time": "2021-08-28T02:15:00.425317",
     "exception": false,
     "start_time": "2021-08-28T02:15:00.389799",
     "status": "completed"
    },
    "tags": []
   },
   "outputs": [
    {
     "data": {
      "text/plain": [
       "id         int64\n",
       "title     object\n",
       "author    object\n",
       "text      object\n",
       "label     object\n",
       "dtype: object"
      ]
     },
     "execution_count": 12,
     "metadata": {},
     "output_type": "execute_result"
    }
   ],
   "source": [
    "df.dtypes"
   ]
  },
  {
   "cell_type": "code",
   "execution_count": 13,
   "id": "957b1f9e",
   "metadata": {
    "execution": {
     "iopub.execute_input": "2021-08-28T02:15:00.480892Z",
     "iopub.status.busy": "2021-08-28T02:15:00.480036Z",
     "iopub.status.idle": "2021-08-28T02:15:00.492098Z",
     "shell.execute_reply": "2021-08-28T02:15:00.492514Z",
     "shell.execute_reply.started": "2021-08-23T11:47:59.686398Z"
    },
    "papermill": {
     "duration": 0.041067,
     "end_time": "2021-08-28T02:15:00.492656",
     "exception": false,
     "start_time": "2021-08-28T02:15:00.451589",
     "status": "completed"
    },
    "tags": []
   },
   "outputs": [
    {
     "data": {
      "text/html": [
       "<div>\n",
       "<style scoped>\n",
       "    .dataframe tbody tr th:only-of-type {\n",
       "        vertical-align: middle;\n",
       "    }\n",
       "\n",
       "    .dataframe tbody tr th {\n",
       "        vertical-align: top;\n",
       "    }\n",
       "\n",
       "    .dataframe thead th {\n",
       "        text-align: right;\n",
       "    }\n",
       "</style>\n",
       "<table border=\"1\" class=\"dataframe\">\n",
       "  <thead>\n",
       "    <tr style=\"text-align: right;\">\n",
       "      <th></th>\n",
       "      <th>id</th>\n",
       "      <th>title</th>\n",
       "      <th>author</th>\n",
       "      <th>text</th>\n",
       "      <th>label</th>\n",
       "    </tr>\n",
       "  </thead>\n",
       "  <tbody>\n",
       "    <tr>\n",
       "      <th>0</th>\n",
       "      <td>0</td>\n",
       "      <td>House Dem Aide: We Didn’t Even See Comey’s Let...</td>\n",
       "      <td>Darrell Lucus</td>\n",
       "      <td>House Dem Aide: We Didn’t Even See Comey’s Let...</td>\n",
       "      <td>1</td>\n",
       "    </tr>\n",
       "    <tr>\n",
       "      <th>1</th>\n",
       "      <td>1</td>\n",
       "      <td>FLYNN: Hillary Clinton, Big Woman on Campus - ...</td>\n",
       "      <td>Daniel J. Flynn</td>\n",
       "      <td>Ever get the feeling your life circles the rou...</td>\n",
       "      <td>0</td>\n",
       "    </tr>\n",
       "    <tr>\n",
       "      <th>2</th>\n",
       "      <td>2</td>\n",
       "      <td>Why the Truth Might Get You Fired</td>\n",
       "      <td>Consortiumnews.com</td>\n",
       "      <td>Why the Truth Might Get You Fired October 29, ...</td>\n",
       "      <td>1</td>\n",
       "    </tr>\n",
       "    <tr>\n",
       "      <th>3</th>\n",
       "      <td>3</td>\n",
       "      <td>15 Civilians Killed In Single US Airstrike Hav...</td>\n",
       "      <td>Jessica Purkiss</td>\n",
       "      <td>Videos 15 Civilians Killed In Single US Airstr...</td>\n",
       "      <td>1</td>\n",
       "    </tr>\n",
       "    <tr>\n",
       "      <th>4</th>\n",
       "      <td>4</td>\n",
       "      <td>Iranian woman jailed for fictional unpublished...</td>\n",
       "      <td>Howard Portnoy</td>\n",
       "      <td>Print \\nAn Iranian woman has been sentenced to...</td>\n",
       "      <td>1</td>\n",
       "    </tr>\n",
       "    <tr>\n",
       "      <th>5</th>\n",
       "      <td>5</td>\n",
       "      <td>Jackie Mason: Hollywood Would Love Trump if He...</td>\n",
       "      <td>Daniel Nussbaum</td>\n",
       "      <td>In these trying times, Jackie Mason is the Voi...</td>\n",
       "      <td>0</td>\n",
       "    </tr>\n",
       "    <tr>\n",
       "      <th>7</th>\n",
       "      <td>7</td>\n",
       "      <td>Benoît Hamon Wins French Socialist Party’s Pre...</td>\n",
       "      <td>Alissa J. Rubin</td>\n",
       "      <td>PARIS  —   France chose an idealistic, traditi...</td>\n",
       "      <td>0</td>\n",
       "    </tr>\n",
       "    <tr>\n",
       "      <th>9</th>\n",
       "      <td>9</td>\n",
       "      <td>A Back-Channel Plan for Ukraine and Russia, Co...</td>\n",
       "      <td>Megan Twohey and Scott Shane</td>\n",
       "      <td>A week before Michael T. Flynn resigned as nat...</td>\n",
       "      <td>0</td>\n",
       "    </tr>\n",
       "    <tr>\n",
       "      <th>10</th>\n",
       "      <td>10</td>\n",
       "      <td>Obama’s Organizing for Action Partners with So...</td>\n",
       "      <td>Aaron Klein</td>\n",
       "      <td>Organizing for Action, the activist group that...</td>\n",
       "      <td>0</td>\n",
       "    </tr>\n",
       "    <tr>\n",
       "      <th>11</th>\n",
       "      <td>11</td>\n",
       "      <td>BBC Comedy Sketch \"Real Housewives of ISIS\" Ca...</td>\n",
       "      <td>Chris Tomlinson</td>\n",
       "      <td>The BBC produced spoof on the “Real Housewives...</td>\n",
       "      <td>0</td>\n",
       "    </tr>\n",
       "  </tbody>\n",
       "</table>\n",
       "</div>"
      ],
      "text/plain": [
       "    id                                              title  \\\n",
       "0    0  House Dem Aide: We Didn’t Even See Comey’s Let...   \n",
       "1    1  FLYNN: Hillary Clinton, Big Woman on Campus - ...   \n",
       "2    2                  Why the Truth Might Get You Fired   \n",
       "3    3  15 Civilians Killed In Single US Airstrike Hav...   \n",
       "4    4  Iranian woman jailed for fictional unpublished...   \n",
       "5    5  Jackie Mason: Hollywood Would Love Trump if He...   \n",
       "7    7  Benoît Hamon Wins French Socialist Party’s Pre...   \n",
       "9    9  A Back-Channel Plan for Ukraine and Russia, Co...   \n",
       "10  10  Obama’s Organizing for Action Partners with So...   \n",
       "11  11  BBC Comedy Sketch \"Real Housewives of ISIS\" Ca...   \n",
       "\n",
       "                          author  \\\n",
       "0                  Darrell Lucus   \n",
       "1                Daniel J. Flynn   \n",
       "2             Consortiumnews.com   \n",
       "3                Jessica Purkiss   \n",
       "4                 Howard Portnoy   \n",
       "5                Daniel Nussbaum   \n",
       "7                Alissa J. Rubin   \n",
       "9   Megan Twohey and Scott Shane   \n",
       "10                   Aaron Klein   \n",
       "11               Chris Tomlinson   \n",
       "\n",
       "                                                 text label  \n",
       "0   House Dem Aide: We Didn’t Even See Comey’s Let...     1  \n",
       "1   Ever get the feeling your life circles the rou...     0  \n",
       "2   Why the Truth Might Get You Fired October 29, ...     1  \n",
       "3   Videos 15 Civilians Killed In Single US Airstr...     1  \n",
       "4   Print \\nAn Iranian woman has been sentenced to...     1  \n",
       "5   In these trying times, Jackie Mason is the Voi...     0  \n",
       "7   PARIS  —   France chose an idealistic, traditi...     0  \n",
       "9   A week before Michael T. Flynn resigned as nat...     0  \n",
       "10  Organizing for Action, the activist group that...     0  \n",
       "11  The BBC produced spoof on the “Real Housewives...     0  "
      ]
     },
     "execution_count": 13,
     "metadata": {},
     "output_type": "execute_result"
    }
   ],
   "source": [
    "df.head(10)"
   ]
  },
  {
   "cell_type": "code",
   "execution_count": 14,
   "id": "fc10930e",
   "metadata": {
    "execution": {
     "iopub.execute_input": "2021-08-28T02:15:00.549466Z",
     "iopub.status.busy": "2021-08-28T02:15:00.548564Z",
     "iopub.status.idle": "2021-08-28T02:15:00.553050Z",
     "shell.execute_reply": "2021-08-28T02:15:00.553474Z",
     "shell.execute_reply.started": "2021-08-23T11:47:59.708558Z"
    },
    "papermill": {
     "duration": 0.034212,
     "end_time": "2021-08-28T02:15:00.553616",
     "exception": false,
     "start_time": "2021-08-28T02:15:00.519404",
     "status": "completed"
    },
    "tags": []
   },
   "outputs": [],
   "source": [
    "df.reset_index(inplace = True) # resetting the index of data "
   ]
  },
  {
   "cell_type": "code",
   "execution_count": 15,
   "id": "15d1957f",
   "metadata": {
    "execution": {
     "iopub.execute_input": "2021-08-28T02:15:00.610241Z",
     "iopub.status.busy": "2021-08-28T02:15:00.609347Z",
     "iopub.status.idle": "2021-08-28T02:15:00.622555Z",
     "shell.execute_reply": "2021-08-28T02:15:00.622132Z",
     "shell.execute_reply.started": "2021-08-23T11:47:59.722023Z"
    },
    "papermill": {
     "duration": 0.042319,
     "end_time": "2021-08-28T02:15:00.622678",
     "exception": false,
     "start_time": "2021-08-28T02:15:00.580359",
     "status": "completed"
    },
    "tags": []
   },
   "outputs": [
    {
     "data": {
      "text/html": [
       "<div>\n",
       "<style scoped>\n",
       "    .dataframe tbody tr th:only-of-type {\n",
       "        vertical-align: middle;\n",
       "    }\n",
       "\n",
       "    .dataframe tbody tr th {\n",
       "        vertical-align: top;\n",
       "    }\n",
       "\n",
       "    .dataframe thead th {\n",
       "        text-align: right;\n",
       "    }\n",
       "</style>\n",
       "<table border=\"1\" class=\"dataframe\">\n",
       "  <thead>\n",
       "    <tr style=\"text-align: right;\">\n",
       "      <th></th>\n",
       "      <th>index</th>\n",
       "      <th>id</th>\n",
       "      <th>title</th>\n",
       "      <th>author</th>\n",
       "      <th>text</th>\n",
       "      <th>label</th>\n",
       "    </tr>\n",
       "  </thead>\n",
       "  <tbody>\n",
       "    <tr>\n",
       "      <th>0</th>\n",
       "      <td>0</td>\n",
       "      <td>0</td>\n",
       "      <td>House Dem Aide: We Didn’t Even See Comey’s Let...</td>\n",
       "      <td>Darrell Lucus</td>\n",
       "      <td>House Dem Aide: We Didn’t Even See Comey’s Let...</td>\n",
       "      <td>1</td>\n",
       "    </tr>\n",
       "    <tr>\n",
       "      <th>1</th>\n",
       "      <td>1</td>\n",
       "      <td>1</td>\n",
       "      <td>FLYNN: Hillary Clinton, Big Woman on Campus - ...</td>\n",
       "      <td>Daniel J. Flynn</td>\n",
       "      <td>Ever get the feeling your life circles the rou...</td>\n",
       "      <td>0</td>\n",
       "    </tr>\n",
       "    <tr>\n",
       "      <th>2</th>\n",
       "      <td>2</td>\n",
       "      <td>2</td>\n",
       "      <td>Why the Truth Might Get You Fired</td>\n",
       "      <td>Consortiumnews.com</td>\n",
       "      <td>Why the Truth Might Get You Fired October 29, ...</td>\n",
       "      <td>1</td>\n",
       "    </tr>\n",
       "    <tr>\n",
       "      <th>3</th>\n",
       "      <td>3</td>\n",
       "      <td>3</td>\n",
       "      <td>15 Civilians Killed In Single US Airstrike Hav...</td>\n",
       "      <td>Jessica Purkiss</td>\n",
       "      <td>Videos 15 Civilians Killed In Single US Airstr...</td>\n",
       "      <td>1</td>\n",
       "    </tr>\n",
       "    <tr>\n",
       "      <th>4</th>\n",
       "      <td>4</td>\n",
       "      <td>4</td>\n",
       "      <td>Iranian woman jailed for fictional unpublished...</td>\n",
       "      <td>Howard Portnoy</td>\n",
       "      <td>Print \\nAn Iranian woman has been sentenced to...</td>\n",
       "      <td>1</td>\n",
       "    </tr>\n",
       "    <tr>\n",
       "      <th>5</th>\n",
       "      <td>5</td>\n",
       "      <td>5</td>\n",
       "      <td>Jackie Mason: Hollywood Would Love Trump if He...</td>\n",
       "      <td>Daniel Nussbaum</td>\n",
       "      <td>In these trying times, Jackie Mason is the Voi...</td>\n",
       "      <td>0</td>\n",
       "    </tr>\n",
       "    <tr>\n",
       "      <th>6</th>\n",
       "      <td>7</td>\n",
       "      <td>7</td>\n",
       "      <td>Benoît Hamon Wins French Socialist Party’s Pre...</td>\n",
       "      <td>Alissa J. Rubin</td>\n",
       "      <td>PARIS  —   France chose an idealistic, traditi...</td>\n",
       "      <td>0</td>\n",
       "    </tr>\n",
       "    <tr>\n",
       "      <th>7</th>\n",
       "      <td>9</td>\n",
       "      <td>9</td>\n",
       "      <td>A Back-Channel Plan for Ukraine and Russia, Co...</td>\n",
       "      <td>Megan Twohey and Scott Shane</td>\n",
       "      <td>A week before Michael T. Flynn resigned as nat...</td>\n",
       "      <td>0</td>\n",
       "    </tr>\n",
       "    <tr>\n",
       "      <th>8</th>\n",
       "      <td>10</td>\n",
       "      <td>10</td>\n",
       "      <td>Obama’s Organizing for Action Partners with So...</td>\n",
       "      <td>Aaron Klein</td>\n",
       "      <td>Organizing for Action, the activist group that...</td>\n",
       "      <td>0</td>\n",
       "    </tr>\n",
       "    <tr>\n",
       "      <th>9</th>\n",
       "      <td>11</td>\n",
       "      <td>11</td>\n",
       "      <td>BBC Comedy Sketch \"Real Housewives of ISIS\" Ca...</td>\n",
       "      <td>Chris Tomlinson</td>\n",
       "      <td>The BBC produced spoof on the “Real Housewives...</td>\n",
       "      <td>0</td>\n",
       "    </tr>\n",
       "  </tbody>\n",
       "</table>\n",
       "</div>"
      ],
      "text/plain": [
       "   index  id                                              title  \\\n",
       "0      0   0  House Dem Aide: We Didn’t Even See Comey’s Let...   \n",
       "1      1   1  FLYNN: Hillary Clinton, Big Woman on Campus - ...   \n",
       "2      2   2                  Why the Truth Might Get You Fired   \n",
       "3      3   3  15 Civilians Killed In Single US Airstrike Hav...   \n",
       "4      4   4  Iranian woman jailed for fictional unpublished...   \n",
       "5      5   5  Jackie Mason: Hollywood Would Love Trump if He...   \n",
       "6      7   7  Benoît Hamon Wins French Socialist Party’s Pre...   \n",
       "7      9   9  A Back-Channel Plan for Ukraine and Russia, Co...   \n",
       "8     10  10  Obama’s Organizing for Action Partners with So...   \n",
       "9     11  11  BBC Comedy Sketch \"Real Housewives of ISIS\" Ca...   \n",
       "\n",
       "                         author  \\\n",
       "0                 Darrell Lucus   \n",
       "1               Daniel J. Flynn   \n",
       "2            Consortiumnews.com   \n",
       "3               Jessica Purkiss   \n",
       "4                Howard Portnoy   \n",
       "5               Daniel Nussbaum   \n",
       "6               Alissa J. Rubin   \n",
       "7  Megan Twohey and Scott Shane   \n",
       "8                   Aaron Klein   \n",
       "9               Chris Tomlinson   \n",
       "\n",
       "                                                text label  \n",
       "0  House Dem Aide: We Didn’t Even See Comey’s Let...     1  \n",
       "1  Ever get the feeling your life circles the rou...     0  \n",
       "2  Why the Truth Might Get You Fired October 29, ...     1  \n",
       "3  Videos 15 Civilians Killed In Single US Airstr...     1  \n",
       "4  Print \\nAn Iranian woman has been sentenced to...     1  \n",
       "5  In these trying times, Jackie Mason is the Voi...     0  \n",
       "6  PARIS  —   France chose an idealistic, traditi...     0  \n",
       "7  A week before Michael T. Flynn resigned as nat...     0  \n",
       "8  Organizing for Action, the activist group that...     0  \n",
       "9  The BBC produced spoof on the “Real Housewives...     0  "
      ]
     },
     "execution_count": 15,
     "metadata": {},
     "output_type": "execute_result"
    }
   ],
   "source": [
    "df.head(10)"
   ]
  },
  {
   "cell_type": "code",
   "execution_count": 16,
   "id": "0c94b181",
   "metadata": {
    "execution": {
     "iopub.execute_input": "2021-08-28T02:15:00.681773Z",
     "iopub.status.busy": "2021-08-28T02:15:00.681187Z",
     "iopub.status.idle": "2021-08-28T02:15:00.687592Z",
     "shell.execute_reply": "2021-08-28T02:15:00.688049Z",
     "shell.execute_reply.started": "2021-08-23T11:47:59.747049Z"
    },
    "papermill": {
     "duration": 0.038084,
     "end_time": "2021-08-28T02:15:00.688187",
     "exception": false,
     "start_time": "2021-08-28T02:15:00.650103",
     "status": "completed"
    },
    "tags": []
   },
   "outputs": [],
   "source": [
    "df.drop(['index','id'],axis=1,inplace=True) # dropping 'index' and 'id' columns"
   ]
  },
  {
   "cell_type": "code",
   "execution_count": 17,
   "id": "0cfc2fb8",
   "metadata": {
    "execution": {
     "iopub.execute_input": "2021-08-28T02:15:00.744369Z",
     "iopub.status.busy": "2021-08-28T02:15:00.743849Z",
     "iopub.status.idle": "2021-08-28T02:15:00.754085Z",
     "shell.execute_reply": "2021-08-28T02:15:00.754462Z",
     "shell.execute_reply.started": "2021-08-23T11:47:59.760241Z"
    },
    "papermill": {
     "duration": 0.039601,
     "end_time": "2021-08-28T02:15:00.754603",
     "exception": false,
     "start_time": "2021-08-28T02:15:00.715002",
     "status": "completed"
    },
    "tags": []
   },
   "outputs": [
    {
     "data": {
      "text/html": [
       "<div>\n",
       "<style scoped>\n",
       "    .dataframe tbody tr th:only-of-type {\n",
       "        vertical-align: middle;\n",
       "    }\n",
       "\n",
       "    .dataframe tbody tr th {\n",
       "        vertical-align: top;\n",
       "    }\n",
       "\n",
       "    .dataframe thead th {\n",
       "        text-align: right;\n",
       "    }\n",
       "</style>\n",
       "<table border=\"1\" class=\"dataframe\">\n",
       "  <thead>\n",
       "    <tr style=\"text-align: right;\">\n",
       "      <th></th>\n",
       "      <th>title</th>\n",
       "      <th>author</th>\n",
       "      <th>text</th>\n",
       "      <th>label</th>\n",
       "    </tr>\n",
       "  </thead>\n",
       "  <tbody>\n",
       "    <tr>\n",
       "      <th>0</th>\n",
       "      <td>House Dem Aide: We Didn’t Even See Comey’s Let...</td>\n",
       "      <td>Darrell Lucus</td>\n",
       "      <td>House Dem Aide: We Didn’t Even See Comey’s Let...</td>\n",
       "      <td>1</td>\n",
       "    </tr>\n",
       "    <tr>\n",
       "      <th>1</th>\n",
       "      <td>FLYNN: Hillary Clinton, Big Woman on Campus - ...</td>\n",
       "      <td>Daniel J. Flynn</td>\n",
       "      <td>Ever get the feeling your life circles the rou...</td>\n",
       "      <td>0</td>\n",
       "    </tr>\n",
       "    <tr>\n",
       "      <th>2</th>\n",
       "      <td>Why the Truth Might Get You Fired</td>\n",
       "      <td>Consortiumnews.com</td>\n",
       "      <td>Why the Truth Might Get You Fired October 29, ...</td>\n",
       "      <td>1</td>\n",
       "    </tr>\n",
       "    <tr>\n",
       "      <th>3</th>\n",
       "      <td>15 Civilians Killed In Single US Airstrike Hav...</td>\n",
       "      <td>Jessica Purkiss</td>\n",
       "      <td>Videos 15 Civilians Killed In Single US Airstr...</td>\n",
       "      <td>1</td>\n",
       "    </tr>\n",
       "    <tr>\n",
       "      <th>4</th>\n",
       "      <td>Iranian woman jailed for fictional unpublished...</td>\n",
       "      <td>Howard Portnoy</td>\n",
       "      <td>Print \\nAn Iranian woman has been sentenced to...</td>\n",
       "      <td>1</td>\n",
       "    </tr>\n",
       "  </tbody>\n",
       "</table>\n",
       "</div>"
      ],
      "text/plain": [
       "                                               title              author  \\\n",
       "0  House Dem Aide: We Didn’t Even See Comey’s Let...       Darrell Lucus   \n",
       "1  FLYNN: Hillary Clinton, Big Woman on Campus - ...     Daniel J. Flynn   \n",
       "2                  Why the Truth Might Get You Fired  Consortiumnews.com   \n",
       "3  15 Civilians Killed In Single US Airstrike Hav...     Jessica Purkiss   \n",
       "4  Iranian woman jailed for fictional unpublished...      Howard Portnoy   \n",
       "\n",
       "                                                text label  \n",
       "0  House Dem Aide: We Didn’t Even See Comey’s Let...     1  \n",
       "1  Ever get the feeling your life circles the rou...     0  \n",
       "2  Why the Truth Might Get You Fired October 29, ...     1  \n",
       "3  Videos 15 Civilians Killed In Single US Airstr...     1  \n",
       "4  Print \\nAn Iranian woman has been sentenced to...     1  "
      ]
     },
     "execution_count": 17,
     "metadata": {},
     "output_type": "execute_result"
    }
   ],
   "source": [
    "df.head()"
   ]
  },
  {
   "cell_type": "code",
   "execution_count": 18,
   "id": "153d8cd6",
   "metadata": {
    "execution": {
     "iopub.execute_input": "2021-08-28T02:15:00.812395Z",
     "iopub.status.busy": "2021-08-28T02:15:00.811828Z",
     "iopub.status.idle": "2021-08-28T02:15:00.814474Z",
     "shell.execute_reply": "2021-08-28T02:15:00.814067Z",
     "shell.execute_reply.started": "2021-08-23T11:47:59.776606Z"
    },
    "papermill": {
     "duration": 0.032942,
     "end_time": "2021-08-28T02:15:00.814598",
     "exception": false,
     "start_time": "2021-08-28T02:15:00.781656",
     "status": "completed"
    },
    "tags": []
   },
   "outputs": [],
   "source": [
    "ps = PorterStemmer() # initializing porter stemmer"
   ]
  },
  {
   "cell_type": "code",
   "execution_count": 19,
   "id": "11421e7b",
   "metadata": {
    "execution": {
     "iopub.execute_input": "2021-08-28T02:15:00.875702Z",
     "iopub.status.busy": "2021-08-28T02:15:00.875142Z",
     "iopub.status.idle": "2021-08-28T02:15:33.446170Z",
     "shell.execute_reply": "2021-08-28T02:15:33.445600Z",
     "shell.execute_reply.started": "2021-08-23T11:47:59.787525Z"
    },
    "papermill": {
     "duration": 32.604568,
     "end_time": "2021-08-28T02:15:33.446322",
     "exception": false,
     "start_time": "2021-08-28T02:15:00.841754",
     "status": "completed"
    },
    "tags": []
   },
   "outputs": [],
   "source": [
    "corpus=[]\n",
    "sentences=[]\n",
    "for i in range(0,len(df)):\n",
    "    review=re.sub('[^a-zA-Z]',' ', df['title'][i])\n",
    "    review=review.lower()\n",
    "    list=review.split()\n",
    "    review=[ps.stem(word) for word in list if word not in set(stopwords.words('english'))]\n",
    "    sentences=' '.join(review)\n",
    "    corpus.append(sentences)"
   ]
  },
  {
   "cell_type": "code",
   "execution_count": 20,
   "id": "0694fa28",
   "metadata": {
    "execution": {
     "iopub.execute_input": "2021-08-28T02:15:33.508143Z",
     "iopub.status.busy": "2021-08-28T02:15:33.507254Z",
     "iopub.status.idle": "2021-08-28T02:15:33.511116Z",
     "shell.execute_reply": "2021-08-28T02:15:33.510558Z",
     "shell.execute_reply.started": "2021-08-23T11:48:37.526682Z"
    },
    "papermill": {
     "duration": 0.036329,
     "end_time": "2021-08-28T02:15:33.511247",
     "exception": false,
     "start_time": "2021-08-28T02:15:33.474918",
     "status": "completed"
    },
    "tags": []
   },
   "outputs": [
    {
     "data": {
      "text/plain": [
       "'hous dem aid even see comey letter jason chaffetz tweet'"
      ]
     },
     "execution_count": 20,
     "metadata": {},
     "output_type": "execute_result"
    }
   ],
   "source": [
    "corpus[0]"
   ]
  },
  {
   "cell_type": "code",
   "execution_count": 21,
   "id": "0459dc5b",
   "metadata": {
    "execution": {
     "iopub.execute_input": "2021-08-28T02:15:33.573097Z",
     "iopub.status.busy": "2021-08-28T02:15:33.572245Z",
     "iopub.status.idle": "2021-08-28T02:15:33.576182Z",
     "shell.execute_reply": "2021-08-28T02:15:33.575617Z",
     "shell.execute_reply.started": "2021-08-23T11:48:37.53453Z"
    },
    "papermill": {
     "duration": 0.036598,
     "end_time": "2021-08-28T02:15:33.576304",
     "exception": false,
     "start_time": "2021-08-28T02:15:33.539706",
     "status": "completed"
    },
    "tags": []
   },
   "outputs": [
    {
     "data": {
      "text/plain": [
       "['hous dem aid even see comey letter jason chaffetz tweet',\n",
       " 'flynn hillari clinton big woman campu breitbart',\n",
       " 'truth might get fire',\n",
       " 'civilian kill singl us airstrik identifi',\n",
       " 'iranian woman jail fiction unpublish stori woman stone death adulteri',\n",
       " 'jacki mason hollywood would love trump bomb north korea lack tran bathroom exclus video breitbart',\n",
       " 'beno hamon win french socialist parti presidenti nomin new york time',\n",
       " 'back channel plan ukrain russia courtesi trump associ new york time',\n",
       " 'obama organ action partner soro link indivis disrupt trump agenda',\n",
       " 'bbc comedi sketch real housew isi caus outrag',\n",
       " 'russian research discov secret nazi militari base treasur hunter arctic photo',\n",
       " 'us offici see link trump russia',\n",
       " 'ye paid govern troll social media blog forum websit',\n",
       " 'major leagu soccer argentin find home success new york time',\n",
       " 'well fargo chief abruptli step new york time',\n",
       " 'anonym donor pay million releas everyon arrest dakota access pipelin',\n",
       " 'fbi close hillari',\n",
       " 'chuck todd buzzfe donald trump polit favor breitbart',\n",
       " 'monica lewinski clinton sex scandal set american crime stori',\n",
       " 'rob reiner trump mental unstabl breitbart']"
      ]
     },
     "execution_count": 21,
     "metadata": {},
     "output_type": "execute_result"
    }
   ],
   "source": [
    "corpus[:20]"
   ]
  },
  {
   "cell_type": "code",
   "execution_count": 22,
   "id": "b4576baf",
   "metadata": {
    "execution": {
     "iopub.execute_input": "2021-08-28T02:15:33.638613Z",
     "iopub.status.busy": "2021-08-28T02:15:33.638038Z",
     "iopub.status.idle": "2021-08-28T02:15:33.640429Z",
     "shell.execute_reply": "2021-08-28T02:15:33.640838Z",
     "shell.execute_reply.started": "2021-08-23T11:48:37.550581Z"
    },
    "papermill": {
     "duration": 0.036079,
     "end_time": "2021-08-28T02:15:33.641000",
     "exception": false,
     "start_time": "2021-08-28T02:15:33.604921",
     "status": "completed"
    },
    "tags": []
   },
   "outputs": [],
   "source": [
    "from sklearn.feature_extraction.text import CountVectorizer\n",
    "\n",
    "cv = CountVectorizer(max_features = 5000, ngram_range = (1, 3))"
   ]
  },
  {
   "cell_type": "code",
   "execution_count": 23,
   "id": "6ddd8ef8",
   "metadata": {
    "execution": {
     "iopub.execute_input": "2021-08-28T02:15:33.726800Z",
     "iopub.status.busy": "2021-08-28T02:15:33.721733Z",
     "iopub.status.idle": "2021-08-28T02:15:34.953115Z",
     "shell.execute_reply": "2021-08-28T02:15:34.952582Z",
     "shell.execute_reply.started": "2021-08-23T11:48:37.584844Z"
    },
    "papermill": {
     "duration": 1.28358,
     "end_time": "2021-08-28T02:15:34.953251",
     "exception": false,
     "start_time": "2021-08-28T02:15:33.669671",
     "status": "completed"
    },
    "tags": []
   },
   "outputs": [],
   "source": [
    "# splitting dataset into features and label \n",
    "\n",
    "X = cv.fit_transform(corpus).toarray()\n",
    "y = df['label']"
   ]
  },
  {
   "cell_type": "code",
   "execution_count": 24,
   "id": "ea6592cf",
   "metadata": {
    "execution": {
     "iopub.execute_input": "2021-08-28T02:15:35.018253Z",
     "iopub.status.busy": "2021-08-28T02:15:35.017673Z",
     "iopub.status.idle": "2021-08-28T02:15:35.020779Z",
     "shell.execute_reply": "2021-08-28T02:15:35.021365Z",
     "shell.execute_reply.started": "2021-08-23T11:48:39.604488Z"
    },
    "papermill": {
     "duration": 0.03889,
     "end_time": "2021-08-28T02:15:35.021540",
     "exception": false,
     "start_time": "2021-08-28T02:15:34.982650",
     "status": "completed"
    },
    "tags": []
   },
   "outputs": [
    {
     "data": {
      "text/plain": [
       "(array([[0, 0, 0, ..., 0, 0, 0],\n",
       "        [0, 0, 0, ..., 0, 0, 0],\n",
       "        [0, 0, 0, ..., 0, 0, 0],\n",
       "        ...,\n",
       "        [0, 0, 0, ..., 0, 0, 0],\n",
       "        [0, 0, 0, ..., 0, 0, 0],\n",
       "        [0, 0, 0, ..., 0, 0, 0]]),\n",
       " 0        1\n",
       " 1        0\n",
       " 2        1\n",
       " 3        1\n",
       " 4        1\n",
       "         ..\n",
       " 18280    0\n",
       " 18281    0\n",
       " 18282    0\n",
       " 18283    1\n",
       " 18284    1\n",
       " Name: label, Length: 18285, dtype: object)"
      ]
     },
     "execution_count": 24,
     "metadata": {},
     "output_type": "execute_result"
    }
   ],
   "source": [
    "X, y"
   ]
  },
  {
   "cell_type": "code",
   "execution_count": 25,
   "id": "c47e304c",
   "metadata": {
    "execution": {
     "iopub.execute_input": "2021-08-28T02:15:35.082697Z",
     "iopub.status.busy": "2021-08-28T02:15:35.082166Z",
     "iopub.status.idle": "2021-08-28T02:15:35.087336Z",
     "shell.execute_reply": "2021-08-28T02:15:35.086837Z",
     "shell.execute_reply.started": "2021-08-23T11:48:39.614558Z"
    },
    "papermill": {
     "duration": 0.036449,
     "end_time": "2021-08-28T02:15:35.087460",
     "exception": false,
     "start_time": "2021-08-28T02:15:35.051011",
     "status": "completed"
    },
    "tags": []
   },
   "outputs": [
    {
     "data": {
      "text/plain": [
       "((18285, 5000), (18285,))"
      ]
     },
     "execution_count": 25,
     "metadata": {},
     "output_type": "execute_result"
    }
   ],
   "source": [
    "X.shape, y.shape"
   ]
  },
  {
   "cell_type": "code",
   "execution_count": 26,
   "id": "7bdb168f",
   "metadata": {
    "execution": {
     "iopub.execute_input": "2021-08-28T02:15:35.154770Z",
     "iopub.status.busy": "2021-08-28T02:15:35.154186Z",
     "iopub.status.idle": "2021-08-28T02:15:35.157834Z",
     "shell.execute_reply": "2021-08-28T02:15:35.157403Z",
     "shell.execute_reply.started": "2021-08-23T11:48:39.629617Z"
    },
    "papermill": {
     "duration": 0.041407,
     "end_time": "2021-08-28T02:15:35.157973",
     "exception": false,
     "start_time": "2021-08-28T02:15:35.116566",
     "status": "completed"
    },
    "tags": []
   },
   "outputs": [
    {
     "data": {
      "text/plain": [
       "['abandon',\n",
       " 'abc',\n",
       " 'abc news',\n",
       " 'abduct',\n",
       " 'abe',\n",
       " 'abedin',\n",
       " 'abl',\n",
       " 'abort',\n",
       " 'abroad',\n",
       " 'absolut',\n",
       " 'abstain',\n",
       " 'absurd',\n",
       " 'abus',\n",
       " 'abus new',\n",
       " 'abus new york',\n",
       " 'academi',\n",
       " 'accept',\n",
       " 'access',\n",
       " 'access pipelin',\n",
       " 'access pipelin protest']"
      ]
     },
     "execution_count": 26,
     "metadata": {},
     "output_type": "execute_result"
    }
   ],
   "source": [
    "cv.get_feature_names()[0:20]"
   ]
  },
  {
   "cell_type": "code",
   "execution_count": 27,
   "id": "5aeabaf8",
   "metadata": {
    "execution": {
     "iopub.execute_input": "2021-08-28T02:15:35.221930Z",
     "iopub.status.busy": "2021-08-28T02:15:35.221351Z",
     "iopub.status.idle": "2021-08-28T02:15:35.605547Z",
     "shell.execute_reply": "2021-08-28T02:15:35.604936Z",
     "shell.execute_reply.started": "2021-08-23T11:48:39.651576Z"
    },
    "papermill": {
     "duration": 0.418269,
     "end_time": "2021-08-28T02:15:35.605676",
     "exception": false,
     "start_time": "2021-08-28T02:15:35.187407",
     "status": "completed"
    },
    "tags": []
   },
   "outputs": [],
   "source": [
    "# splitting dataset into train data and test data\n",
    "\n",
    "from sklearn.model_selection import train_test_split\n",
    "\n",
    "X_train, X_test, y_train, y_test = train_test_split(X, y, test_size = 0.25)"
   ]
  },
  {
   "cell_type": "markdown",
   "id": "14fcc2d1",
   "metadata": {
    "papermill": {
     "duration": 0.028243,
     "end_time": "2021-08-28T02:15:35.662647",
     "exception": false,
     "start_time": "2021-08-28T02:15:35.634404",
     "status": "completed"
    },
    "tags": []
   },
   "source": [
    "## Naive Bayes"
   ]
  },
  {
   "cell_type": "code",
   "execution_count": 28,
   "id": "50758aae",
   "metadata": {
    "execution": {
     "iopub.execute_input": "2021-08-28T02:15:35.723992Z",
     "iopub.status.busy": "2021-08-28T02:15:35.723391Z",
     "iopub.status.idle": "2021-08-28T02:15:36.333012Z",
     "shell.execute_reply": "2021-08-28T02:15:36.332563Z",
     "shell.execute_reply.started": "2021-08-23T11:48:40.127531Z"
    },
    "papermill": {
     "duration": 0.641941,
     "end_time": "2021-08-28T02:15:36.333141",
     "exception": false,
     "start_time": "2021-08-28T02:15:35.691200",
     "status": "completed"
    },
    "tags": []
   },
   "outputs": [
    {
     "data": {
      "text/plain": [
       "MultinomialNB()"
      ]
     },
     "execution_count": 28,
     "metadata": {},
     "output_type": "execute_result"
    }
   ],
   "source": [
    "from sklearn.naive_bayes import MultinomialNB\n",
    "\n",
    "classifier = MultinomialNB()\n",
    "classifier.fit(X_train, y_train)"
   ]
  },
  {
   "cell_type": "code",
   "execution_count": 29,
   "id": "7618de52",
   "metadata": {
    "execution": {
     "iopub.execute_input": "2021-08-28T02:15:36.394150Z",
     "iopub.status.busy": "2021-08-28T02:15:36.393614Z",
     "iopub.status.idle": "2021-08-28T02:15:36.500191Z",
     "shell.execute_reply": "2021-08-28T02:15:36.500847Z",
     "shell.execute_reply.started": "2021-08-23T11:48:40.786762Z"
    },
    "papermill": {
     "duration": 0.13911,
     "end_time": "2021-08-28T02:15:36.501114",
     "exception": false,
     "start_time": "2021-08-28T02:15:36.362004",
     "status": "completed"
    },
    "tags": []
   },
   "outputs": [
    {
     "data": {
      "text/plain": [
       "array(['0', '0', '0', ..., '0', '0', '0'], dtype='<U1')"
      ]
     },
     "execution_count": 29,
     "metadata": {},
     "output_type": "execute_result"
    }
   ],
   "source": [
    "y_pred = classifier.predict(X_test)\n",
    "y_pred"
   ]
  },
  {
   "cell_type": "code",
   "execution_count": 30,
   "id": "65005d13",
   "metadata": {
    "execution": {
     "iopub.execute_input": "2021-08-28T02:15:36.617332Z",
     "iopub.status.busy": "2021-08-28T02:15:36.616451Z",
     "iopub.status.idle": "2021-08-28T02:15:36.631715Z",
     "shell.execute_reply": "2021-08-28T02:15:36.632226Z",
     "shell.execute_reply.started": "2021-08-23T11:48:40.879806Z"
    },
    "papermill": {
     "duration": 0.075781,
     "end_time": "2021-08-28T02:15:36.632369",
     "exception": false,
     "start_time": "2021-08-28T02:15:36.556588",
     "status": "completed"
    },
    "tags": []
   },
   "outputs": [
    {
     "data": {
      "text/plain": [
       "0.9015748031496063"
      ]
     },
     "execution_count": 30,
     "metadata": {},
     "output_type": "execute_result"
    }
   ],
   "source": [
    "from sklearn import metrics\n",
    "\n",
    "metrics.accuracy_score(y_test, y_pred)"
   ]
  },
  {
   "cell_type": "code",
   "execution_count": 31,
   "id": "df7a3529",
   "metadata": {
    "execution": {
     "iopub.execute_input": "2021-08-28T02:15:36.693762Z",
     "iopub.status.busy": "2021-08-28T02:15:36.693214Z",
     "iopub.status.idle": "2021-08-28T02:15:36.697466Z",
     "shell.execute_reply": "2021-08-28T02:15:36.697937Z",
     "shell.execute_reply.started": "2021-08-23T11:48:40.9144Z"
    },
    "papermill": {
     "duration": 0.036465,
     "end_time": "2021-08-28T02:15:36.698082",
     "exception": false,
     "start_time": "2021-08-28T02:15:36.661617",
     "status": "completed"
    },
    "tags": []
   },
   "outputs": [],
   "source": [
    "# confusion matrix function\n",
    "\n",
    "def plot_confusion_matrix(cm):\n",
    "    plt.imshow(cm,interpolation='nearest',cmap=plt.cm.Blues)\n",
    "    plt.colorbar()\n",
    "    plt.title('Confusion Matrix')\n",
    "    labels=['positive','negative']\n",
    "    tick_marks=np.arange(len(labels))\n",
    "    plt.xticks(tick_marks,labels)\n",
    "    plt.yticks(tick_marks,labels)"
   ]
  },
  {
   "cell_type": "code",
   "execution_count": 32,
   "id": "2f4181ee",
   "metadata": {
    "execution": {
     "iopub.execute_input": "2021-08-28T02:15:36.759323Z",
     "iopub.status.busy": "2021-08-28T02:15:36.758760Z",
     "iopub.status.idle": "2021-08-28T02:15:36.951066Z",
     "shell.execute_reply": "2021-08-28T02:15:36.951493Z",
     "shell.execute_reply.started": "2021-08-23T11:48:40.927534Z"
    },
    "papermill": {
     "duration": 0.224377,
     "end_time": "2021-08-28T02:15:36.951659",
     "exception": false,
     "start_time": "2021-08-28T02:15:36.727282",
     "status": "completed"
    },
    "tags": []
   },
   "outputs": [
    {
     "data": {
      "image/png": "[encoded data removed]",
      "text/plain": [
       "<Figure size 432x288 with 2 Axes>"
      ]
     },
     "metadata": {
      "needs_background": "light"
     },
     "output_type": "display_data"
    }
   ],
   "source": [
    "cm = metrics.confusion_matrix(y_test, y_pred)\n",
    "plot_confusion_matrix(cm)"
   ]
  },
  {
   "cell_type": "markdown",
   "id": "6b8197ea",
   "metadata": {
    "papermill": {
     "duration": 0.029729,
     "end_time": "2021-08-28T02:15:37.011988",
     "exception": false,
     "start_time": "2021-08-28T02:15:36.982259",
     "status": "completed"
    },
    "tags": []
   },
   "source": [
    "## Passive Aggressive Classifier Algorithm"
   ]
  },
  {
   "cell_type": "code",
   "execution_count": 33,
   "id": "e9004efb",
   "metadata": {
    "execution": {
     "iopub.execute_input": "2021-08-28T02:15:37.074387Z",
     "iopub.status.busy": "2021-08-28T02:15:37.073820Z",
     "iopub.status.idle": "2021-08-28T02:15:46.567269Z",
     "shell.execute_reply": "2021-08-28T02:15:46.567732Z",
     "shell.execute_reply.started": "2021-08-23T11:48:41.179408Z"
    },
    "papermill": {
     "duration": 9.526083,
     "end_time": "2021-08-28T02:15:46.567909",
     "exception": false,
     "start_time": "2021-08-28T02:15:37.041826",
     "status": "completed"
    },
    "tags": []
   },
   "outputs": [
    {
     "data": {
      "text/plain": [
       "PassiveAggressiveClassifier()"
      ]
     },
     "execution_count": 33,
     "metadata": {},
     "output_type": "execute_result"
    }
   ],
   "source": [
    "from sklearn.linear_model import PassiveAggressiveClassifier\n",
    "\n",
    "linear_clf = PassiveAggressiveClassifier()\n",
    "linear_clf.fit(X_train, y_train)"
   ]
  },
  {
   "cell_type": "code",
   "execution_count": 34,
   "id": "75a13039",
   "metadata": {
    "execution": {
     "iopub.execute_input": "2021-08-28T02:15:46.631542Z",
     "iopub.status.busy": "2021-08-28T02:15:46.631001Z",
     "iopub.status.idle": "2021-08-28T02:15:46.703963Z",
     "shell.execute_reply": "2021-08-28T02:15:46.704718Z",
     "shell.execute_reply.started": "2021-08-23T11:48:48.955557Z"
    },
    "papermill": {
     "duration": 0.106722,
     "end_time": "2021-08-28T02:15:46.704998",
     "exception": false,
     "start_time": "2021-08-28T02:15:46.598276",
     "status": "completed"
    },
    "tags": []
   },
   "outputs": [],
   "source": [
    "y_pred = linear_clf.predict(X_test)"
   ]
  },
  {
   "cell_type": "code",
   "execution_count": 35,
   "id": "be0c0518",
   "metadata": {
    "execution": {
     "iopub.execute_input": "2021-08-28T02:15:46.832774Z",
     "iopub.status.busy": "2021-08-28T02:15:46.832211Z",
     "iopub.status.idle": "2021-08-28T02:15:46.842148Z",
     "shell.execute_reply": "2021-08-28T02:15:46.842580Z",
     "shell.execute_reply.started": "2021-08-23T11:48:49.030409Z"
    },
    "papermill": {
     "duration": 0.080402,
     "end_time": "2021-08-28T02:15:46.842729",
     "exception": false,
     "start_time": "2021-08-28T02:15:46.762327",
     "status": "completed"
    },
    "tags": []
   },
   "outputs": [
    {
     "data": {
      "text/plain": [
       "0.9138232720909887"
      ]
     },
     "execution_count": 35,
     "metadata": {},
     "output_type": "execute_result"
    }
   ],
   "source": [
    "metrics.accuracy_score(y_test,y_pred)"
   ]
  },
  {
   "cell_type": "code",
   "execution_count": 36,
   "id": "ea1d49d5",
   "metadata": {
    "execution": {
     "iopub.execute_input": "2021-08-28T02:15:46.911731Z",
     "iopub.status.busy": "2021-08-28T02:15:46.910866Z",
     "iopub.status.idle": "2021-08-28T02:15:47.096343Z",
     "shell.execute_reply": "2021-08-28T02:15:47.096781Z",
     "shell.execute_reply.started": "2021-08-23T11:48:49.066594Z"
    },
    "papermill": {
     "duration": 0.219384,
     "end_time": "2021-08-28T02:15:47.096975",
     "exception": false,
     "start_time": "2021-08-28T02:15:46.877591",
     "status": "completed"
    },
    "tags": []
   },
   "outputs": [
    {
     "data": {
      "image/png": "[encoded data removed]",
      "text/plain": [
       "<Figure size 432x288 with 2 Axes>"
      ]
     },
     "metadata": {
      "needs_background": "light"
     },
     "output_type": "display_data"
    }
   ],
   "source": [
    "cm2 = metrics.confusion_matrix(y_test,y_pred)\n",
    "plot_confusion_matrix(cm2)"
   ]
  },
  {
   "cell_type": "code",
   "execution_count": 37,
   "id": "4edb8ca7",
   "metadata": {
    "execution": {
     "iopub.execute_input": "2021-08-28T02:15:47.164380Z",
     "iopub.status.busy": "2021-08-28T02:15:47.163542Z",
     "iopub.status.idle": "2021-08-28T02:15:47.177646Z",
     "shell.execute_reply": "2021-08-28T02:15:47.178083Z",
     "shell.execute_reply.started": "2021-08-23T11:48:49.336956Z"
    },
    "papermill": {
     "duration": 0.049167,
     "end_time": "2021-08-28T02:15:47.178226",
     "exception": false,
     "start_time": "2021-08-28T02:15:47.129059",
     "status": "completed"
    },
    "tags": []
   },
   "outputs": [
    {
     "data": {
      "text/plain": [
       "[(-3.9914839716490507, 'trump'),\n",
       " (-4.279898913316484, 'hillari'),\n",
       " (-4.348158915587783, 'clinton'),\n",
       " (-4.88335015151613, 'elect'),\n",
       " (-5.184527705442797, 'new'),\n",
       " (-5.23658406739885, 'comment'),\n",
       " (-5.3201316376692915, 'video'),\n",
       " (-5.349607455802245, 'us'),\n",
       " (-5.388828168955526, 'hillari clinton'),\n",
       " (-5.406765869642194, 'war'),\n",
       " (-5.429650163475781, 'fbi'),\n",
       " (-5.45307043768388, 'email'),\n",
       " (-5.4722097778945775, 'vote'),\n",
       " (-5.579181897446745, 'world'),\n",
       " (-5.579181897446745, 'obama'),\n",
       " (-5.755072563910409, 'russia'),\n",
       " (-5.828194828739372, 'donald'),\n",
       " (-5.835115271583946, 'day'),\n",
       " (-5.835115271583946, 'america'),\n",
       " (-5.870454638029255, 'say')]"
      ]
     },
     "execution_count": 37,
     "metadata": {},
     "output_type": "execute_result"
    }
   ],
   "source": [
    "### Most 20 real values\n",
    "\n",
    "feature_names = cv.get_feature_names()\n",
    "sorted(zip(classifier.coef_[0],feature_names),reverse=True)[0:20]"
   ]
  },
  {
   "cell_type": "code",
   "execution_count": 38,
   "id": "4cba46e5",
   "metadata": {
    "execution": {
     "iopub.execute_input": "2021-08-28T02:15:47.243913Z",
     "iopub.status.busy": "2021-08-28T02:15:47.243071Z",
     "iopub.status.idle": "2021-08-28T02:15:47.257275Z",
     "shell.execute_reply": "2021-08-28T02:15:47.257699Z",
     "shell.execute_reply.started": "2021-08-23T11:48:49.367068Z"
    },
    "papermill": {
     "duration": 0.048339,
     "end_time": "2021-08-28T02:15:47.257837",
     "exception": false,
     "start_time": "2021-08-28T02:15:47.209498",
     "status": "completed"
    },
    "tags": []
   },
   "outputs": [
    {
     "data": {
      "text/plain": [
       "[(-10.804928571159946, 'american new'),\n",
       " (-10.804928571159946, 'american breitbart'),\n",
       " (-10.804928571159946, 'america new york'),\n",
       " (-10.804928571159946, 'america new'),\n",
       " (-10.804928571159946, 'america breitbart'),\n",
       " (-10.804928571159946, 'amazon'),\n",
       " (-10.804928571159946, 'ali'),\n",
       " (-10.804928571159946, 'aleppo new york'),\n",
       " (-10.804928571159946, 'aleppo new'),\n",
       " (-10.804928571159946, 'agenda breitbart'),\n",
       " (-10.804928571159946, 'age new york'),\n",
       " (-10.804928571159946, 'age new'),\n",
       " (-10.804928571159946, 'advis new york'),\n",
       " (-10.804928571159946, 'advis new'),\n",
       " (-10.804928571159946, 'advic'),\n",
       " (-10.804928571159946, 'act new york'),\n",
       " (-10.804928571159946, 'act new'),\n",
       " (-10.804928571159946, 'abus new york'),\n",
       " (-10.804928571159946, 'abus new'),\n",
       " (-10.804928571159946, 'abroad')]"
      ]
     },
     "execution_count": 38,
     "metadata": {},
     "output_type": "execute_result"
    }
   ],
   "source": [
    "### Most 20 fake values\n",
    "\n",
    "feature_names = cv.get_feature_names()\n",
    "sorted(zip(classifier.coef_[0],feature_names),reverse=True)[-20:]"
   ]
  },
  {
   "cell_type": "markdown",
   "id": "78aa8af9",
   "metadata": {
    "papermill": {
     "duration": 0.031423,
     "end_time": "2021-08-28T02:15:47.321098",
     "exception": false,
     "start_time": "2021-08-28T02:15:47.289675",
     "status": "completed"
    },
    "tags": []
   },
   "source": [
    "### Thanks for reading, Please do Upvote !!"
   ]
  }
 ],
 "metadata": {
  "kernelspec": {
   "display_name": "Python 3",
   "language": "python",
   "name": "python3"
  },
  "language_info": {
   "codemirror_mode": {
    "name": "ipython",
    "version": 3
   },
   "file_extension": ".py",
   "mimetype": "text/x-python",
   "name": "python",
   "nbconvert_exporter": "python",
   "pygments_lexer": "ipython3",
   "version": "3.7.10"
  },
  "papermill": {
   "default_parameters": {},
   "duration": 59.519733,
   "end_time": "2021-08-28T02:15:48.061397",
   "environment_variables": {},
   "exception": null,
   "input_path": "__notebook__.ipynb",
   "output_path": "__notebook__.ipynb",
   "parameters": {},
   "start_time": "2021-08-28T02:14:48.541664",
   "version": "2.3.3"
  }
 },
 "nbformat": 4,
 "nbformat_minor": 5
}
